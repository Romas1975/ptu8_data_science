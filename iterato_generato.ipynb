{
 "cells": [
  {
   "attachments": {},
   "cell_type": "markdown",
   "metadata": {},
   "source": [
    "# iteratoriai"
   ]
  },
  {
   "cell_type": "code",
   "execution_count": 6,
   "metadata": {},
   "outputs": [
    {
     "data": {
      "text/plain": [
       "<str_iterator at 0x7feed1f97280>"
      ]
     },
     "execution_count": 6,
     "metadata": {},
     "output_type": "execute_result"
    }
   ],
   "source": [
    "iteratorius = iter(\"įrašas\")\n",
    "iteratorius"
   ]
  },
  {
   "cell_type": "code",
   "execution_count": 8,
   "metadata": {},
   "outputs": [
    {
     "ename": "StopIteration",
     "evalue": "",
     "output_type": "error",
     "traceback": [
      "\u001b[0;31m---------------------------------------------------------------------------\u001b[0m",
      "\u001b[0;31mStopIteration\u001b[0m                             Traceback (most recent call last)",
      "Cell \u001b[0;32mIn[8], line 1\u001b[0m\n\u001b[0;32m----> 1\u001b[0m \u001b[39mprint\u001b[39m(\u001b[39mnext\u001b[39;49m(iteratorius))\n\u001b[1;32m      2\u001b[0m \u001b[39mprint\u001b[39m(\u001b[39mnext\u001b[39m(iteratorius))\n\u001b[1;32m      3\u001b[0m \u001b[39mprint\u001b[39m(\u001b[39mnext\u001b[39m(iteratorius))\n",
      "\u001b[0;31mStopIteration\u001b[0m: "
     ]
    }
   ],
   "source": [
    "print(next(iteratorius))\n",
    "print(next(iteratorius))\n",
    "print(next(iteratorius))\n",
    "print(next(iteratorius))\n",
    "print(next(iteratorius))\n",
    "print(next(iteratorius))\n"
   ]
  },
  {
   "cell_type": "code",
   "execution_count": 7,
   "metadata": {},
   "outputs": [
    {
     "name": "stdout",
     "output_type": "stream",
     "text": [
      "į\n",
      "r\n",
      "a\n",
      "š\n",
      "a\n",
      "s\n"
     ]
    }
   ],
   "source": [
    "for raide in iteratorius:\n",
    "    print(raide)"
   ]
  },
  {
   "cell_type": "code",
   "execution_count": 15,
   "metadata": {},
   "outputs": [],
   "source": [
    "skaiciai = [2, 3, 4, 5, 7, 9, 11]"
   ]
  },
  {
   "cell_type": "code",
   "execution_count": 19,
   "metadata": {},
   "outputs": [],
   "source": [
    "def kubu(skaicius):\n",
    "    print(skaicius ** 3)"
   ]
  },
  {
   "cell_type": "code",
   "execution_count": 12,
   "metadata": {},
   "outputs": [
    {
     "name": "stdout",
     "output_type": "stream",
     "text": [
      "8\n",
      "27\n",
      "64\n",
      "125\n",
      "343\n",
      "729\n",
      "1331\n"
     ]
    }
   ],
   "source": [
    "sk_iter = iter(skaiciai)\n",
    "while True:\n",
    "    try:\n",
    "        skaicius = next(sk_iter)\n",
    "    except StopIteration:\n",
    "        break\n",
    "    else:\n",
    "        print(kubu(skaicius))"
   ]
  },
  {
   "cell_type": "code",
   "execution_count": 17,
   "metadata": {},
   "outputs": [],
   "source": [
    "def iteruoklis(objektas, funkcija):\n",
    "    iteratorius = iter(objektas)\n",
    "    while True:\n",
    "        try:\n",
    "            zingsnis = next(iteratorius)\n",
    "        except StopIteration:\n",
    "            break\n",
    "        else:\n",
    "            funkcija(zingsnis)\n"
   ]
  },
  {
   "cell_type": "code",
   "execution_count": 22,
   "metadata": {},
   "outputs": [
    {
     "name": "stdout",
     "output_type": "stream",
     "text": [
      "8\n",
      "27\n",
      "64\n",
      "125\n",
      "343\n",
      "729\n",
      "1331\n"
     ]
    }
   ],
   "source": [
    "# iteruoklis(skaiciai, print)\n",
    "iteruoklis(skaiciai, kubu)"
   ]
  },
  {
   "cell_type": "code",
   "execution_count": 23,
   "metadata": {},
   "outputs": [
    {
     "name": "stdout",
     "output_type": "stream",
     "text": [
      "Gyveno\n",
      "karta\n",
      "senukas\n",
      "ir\n",
      "bobute\n"
     ]
    }
   ],
   "source": [
    "zodziai = \"Gyveno karta senukas ir bobute\".split()\n",
    "iteruoklis(zodziai, print)"
   ]
  },
  {
   "attachments": {},
   "cell_type": "markdown",
   "metadata": {},
   "source": [
    "# Generatoriai"
   ]
  },
  {
   "cell_type": "code",
   "execution_count": 25,
   "metadata": {},
   "outputs": [],
   "source": [
    "def skaiciuoti_iki(iki):\n",
    "    count = 1\n",
    "    while count <= iki:\n",
    "        yield count\n",
    "        count += 1\n"
   ]
  },
  {
   "cell_type": "code",
   "execution_count": 42,
   "metadata": {},
   "outputs": [],
   "source": [
    "counter = skaiciuoti_iki(5)"
   ]
  },
  {
   "cell_type": "code",
   "execution_count": 44,
   "metadata": {},
   "outputs": [
    {
     "name": "stdout",
     "output_type": "stream",
     "text": [
      "2\n"
     ]
    }
   ],
   "source": [
    "print(next(counter))"
   ]
  },
  {
   "cell_type": "code",
   "execution_count": 45,
   "metadata": {},
   "outputs": [
    {
     "name": "stdout",
     "output_type": "stream",
     "text": [
      "[3, 4, 5]\n"
     ]
    }
   ],
   "source": [
    "print(list(counter))"
   ]
  },
  {
   "cell_type": "code",
   "execution_count": 46,
   "metadata": {},
   "outputs": [],
   "source": [
    "def imtis(nuo, iki, zingsnis=1):\n",
    "    while nuo < iki:\n",
    "        yield nuo\n",
    "        nuo += zingsnis"
   ]
  },
  {
   "cell_type": "code",
   "execution_count": 48,
   "metadata": {},
   "outputs": [
    {
     "name": "stdout",
     "output_type": "stream",
     "text": [
      "10\n",
      "12\n",
      "14\n",
      "16\n",
      "18\n",
      "20\n"
     ]
    }
   ],
   "source": [
    "for skaicius in range(10, 21, 2):\n",
    "    print(skaicius)"
   ]
  },
  {
   "cell_type": "code",
   "execution_count": 49,
   "metadata": {},
   "outputs": [
    {
     "name": "stdout",
     "output_type": "stream",
     "text": [
      "1\n",
      "2\n",
      "3\n",
      "4\n",
      "5\n",
      "6\n",
      "7\n",
      "8\n",
      "9\n",
      "10\n"
     ]
    }
   ],
   "source": [
    "for skaicius in skaiciuoti_iki(10):\n",
    "    print(skaicius)"
   ]
  },
  {
   "cell_type": "code",
   "execution_count": 57,
   "metadata": {},
   "outputs": [],
   "source": [
    "from random import randint\n",
    "atsitiktiniai = (randint(0, 99) for _ in range(10))"
   ]
  },
  {
   "cell_type": "code",
   "execution_count": 58,
   "metadata": {},
   "outputs": [
    {
     "name": "stdout",
     "output_type": "stream",
     "text": [
      "<generator object <genexpr> at 0x7feed1d97270>\n"
     ]
    }
   ],
   "source": [
    "print(atsitiktiniai)"
   ]
  },
  {
   "cell_type": "code",
   "execution_count": 55,
   "metadata": {},
   "outputs": [
    {
     "name": "stdout",
     "output_type": "stream",
     "text": [
      "45\n"
     ]
    }
   ],
   "source": [
    "print(next(atsitiktiniai))"
   ]
  },
  {
   "cell_type": "code",
   "execution_count": 56,
   "metadata": {},
   "outputs": [
    {
     "name": "stdout",
     "output_type": "stream",
     "text": [
      "[16, 40, 11, 95, 50]\n"
     ]
    }
   ],
   "source": [
    "print(list(atsitiktiniai))"
   ]
  },
  {
   "attachments": {},
   "cell_type": "markdown",
   "metadata": {},
   "source": [
    "Uzduotys"
   ]
  },
  {
   "cell_type": "code",
   "execution_count": 1,
   "metadata": {},
   "outputs": [],
   "source": [
    "def poriniai():\n",
    "    number = 2\n",
    "    while True:\n",
    "        yield number\n",
    "        number += 2"
   ]
  },
  {
   "cell_type": "code",
   "execution_count": 6,
   "metadata": {},
   "outputs": [],
   "source": [
    "def fibonacci():\n",
    "    a, b = 0, 1\n",
    "    while True:\n",
    "        yield a\n",
    "        a, b = b, a + b"
   ]
  },
  {
   "cell_type": "code",
   "execution_count": 7,
   "metadata": {},
   "outputs": [
    {
     "name": "stdout",
     "output_type": "stream",
     "text": [
      "0000\n",
      "0001\n",
      "0002\n",
      "0003\n",
      "0004\n",
      "0005\n",
      "0006\n",
      "0007\n",
      "0008\n",
      "0009\n",
      "0010\n",
      "0011\n",
      "0012 That's your PIN!\n"
     ]
    }
   ],
   "source": [
    "PIN = '0012'\n",
    "\n",
    "def pin_breaker():\n",
    "    num = 0\n",
    "    while num < 10000:\n",
    "        guess = f'{num:04}'\n",
    "        if guess == PIN:\n",
    "            print(f\"{guess} That's your PIN!\")\n",
    "            break\n",
    "        yield guess\n",
    "        num += 1\n",
    "\n",
    "gen = pin_breaker()\n",
    "\n",
    "while True:\n",
    "    try:\n",
    "        print(next(gen))\n",
    "    except StopIteration:\n",
    "        break"
   ]
  },
  {
   "cell_type": "code",
   "execution_count": 8,
   "metadata": {},
   "outputs": [
    {
     "name": "stdout",
     "output_type": "stream",
     "text": [
      "0000\n",
      "0001\n",
      "0002\n",
      "0003\n",
      "0004\n",
      "0005\n",
      "0006\n",
      "0007\n",
      "0008\n",
      "0009\n",
      "0010\n",
      "0011\n",
      "0012\n",
      "0013\n",
      "0014\n",
      "0015\n",
      "0016\n",
      "0017\n",
      "0018\n",
      "0019\n",
      "0020\n",
      "0021\n",
      "0022\n",
      "0023\n",
      "0024\n",
      "0025\n",
      "0026\n",
      "0027\n",
      "0028\n",
      "0029\n",
      "0030\n",
      "0031\n",
      "0032\n",
      "0033\n",
      "0034\n",
      "0035\n",
      "0036\n",
      "0037\n",
      "0038\n",
      "0039\n",
      "0040\n",
      "0041\n",
      "0042\n",
      "0043\n",
      "0044\n",
      "0045\n",
      "0046\n",
      "0047\n",
      "0048\n",
      "0049\n",
      "0050\n",
      "0051\n",
      "0052\n",
      "0053\n",
      "0054\n",
      "0055\n",
      "0056\n",
      "0057\n",
      "0058\n",
      "0059\n",
      "0060\n",
      "0061\n",
      "0062\n",
      "0063\n",
      "0064\n",
      "0065\n",
      "0066\n",
      "0067\n",
      "0068\n",
      "0069\n",
      "0070\n",
      "0071\n",
      "0072\n",
      "0073\n",
      "0074\n",
      "0075\n",
      "0076\n",
      "0077\n",
      "0078\n",
      "0079\n",
      "0080\n",
      "0081\n",
      "0082\n",
      "0083\n",
      "0084\n",
      "0085\n",
      "0086\n",
      "0087\n",
      "0088\n",
      "0089\n",
      "0090\n",
      "0091\n",
      "0092\n",
      "0093\n",
      "0094\n",
      "0095\n",
      "0096\n",
      "0097\n",
      "0098\n",
      "0099\n",
      "0100\n",
      "0101\n",
      "0102\n",
      "0103\n",
      "0104\n",
      "0105\n",
      "0106\n",
      "0107\n",
      "0108\n",
      "0109\n",
      "0110\n",
      "0111\n",
      "0112\n",
      "0113\n",
      "0114\n",
      "0115\n",
      "0116\n",
      "0117\n",
      "0118\n",
      "0119\n",
      "0120\n",
      "0121\n",
      "0122\n",
      "0123\n",
      "0124\n",
      "0125\n",
      "0126\n",
      "0127\n",
      "0128\n",
      "0129\n",
      "0130\n",
      "0131\n",
      "0132\n",
      "0133\n",
      "0134\n",
      "0135\n",
      "0136\n",
      "0137\n",
      "0138\n",
      "0139\n",
      "0140\n",
      "0141\n",
      "0142\n",
      "0143\n",
      "0144\n",
      "0145\n",
      "0146\n",
      "0147\n",
      "0148\n",
      "0149\n",
      "0150\n",
      "0151\n",
      "0152\n",
      "0153\n",
      "0154\n",
      "0155\n",
      "0156\n",
      "0157\n",
      "0158\n",
      "0159\n",
      "0160\n",
      "0161\n",
      "0162\n",
      "0163\n",
      "0164\n",
      "0165\n",
      "0166\n",
      "0167\n",
      "0168\n",
      "0169\n",
      "0170\n",
      "0171\n",
      "0172\n",
      "0173\n",
      "0174\n",
      "0175\n",
      "0176\n",
      "0177\n",
      "0178\n",
      "0179\n",
      "0180\n",
      "0181\n",
      "0182\n",
      "0183\n",
      "0184\n",
      "0185\n",
      "0186\n",
      "0187\n",
      "0188\n",
      "0189\n",
      "0190\n",
      "0191\n",
      "0192\n",
      "0193\n",
      "0194\n",
      "0195\n",
      "0196\n",
      "0197\n",
      "0198\n",
      "0199\n",
      "0200\n",
      "0201\n",
      "0202\n",
      "0203\n",
      "0204\n",
      "0205\n",
      "0206\n",
      "0207\n",
      "0208\n",
      "0209\n",
      "0210\n",
      "0211\n",
      "0212\n",
      "0213\n",
      "0214\n",
      "0215\n",
      "0216\n",
      "0217\n",
      "0218\n",
      "0219\n",
      "0220\n",
      "0221\n",
      "0222\n",
      "0223\n",
      "0224\n",
      "0225\n",
      "0226\n",
      "0227\n",
      "0228\n",
      "0229\n",
      "0230\n",
      "0231\n",
      "0232\n",
      "0233\n",
      "0234\n",
      "0235\n",
      "0236\n",
      "0237\n",
      "0238\n",
      "0239\n",
      "0240\n",
      "0241\n",
      "0242\n",
      "0243\n",
      "0244\n",
      "0245\n",
      "0246\n",
      "0247\n",
      "0248\n",
      "0249\n",
      "0250\n",
      "0251\n",
      "0252\n",
      "0253\n",
      "0254\n",
      "0255\n",
      "0256\n",
      "0257\n",
      "0258\n",
      "0259\n",
      "0260\n",
      "0261\n",
      "0262\n",
      "0263\n",
      "0264\n",
      "0265\n",
      "0266\n",
      "0267\n",
      "0268\n",
      "0269\n",
      "0270\n",
      "0271\n",
      "0272\n",
      "0273\n",
      "0274\n",
      "0275\n",
      "0276\n",
      "0277\n",
      "0278\n",
      "0279\n",
      "0280\n",
      "0281\n",
      "0282\n",
      "0283\n",
      "0284\n",
      "0285\n",
      "0286\n",
      "0287\n",
      "0288\n",
      "0289\n",
      "0290\n",
      "0291\n",
      "0292\n",
      "0293\n",
      "0294\n",
      "0295\n",
      "0296\n",
      "0297\n",
      "0298\n",
      "0299\n",
      "0300\n",
      "0301\n",
      "0302\n",
      "0303\n",
      "0304\n",
      "0305\n",
      "0306\n",
      "0307\n",
      "0308\n",
      "0309\n",
      "0310\n",
      "0311\n",
      "0312\n",
      "0313\n",
      "0314\n",
      "0315\n",
      "0316\n",
      "0317\n",
      "0318\n",
      "0319\n",
      "0320\n",
      "0321\n",
      "0322\n",
      "0323\n",
      "0324\n",
      "0325\n",
      "0326\n",
      "0327\n",
      "0328\n",
      "0329\n",
      "0330\n",
      "0331\n",
      "0332\n",
      "0333\n",
      "0334\n",
      "0335\n",
      "0336\n",
      "0337\n",
      "0338\n",
      "0339\n",
      "0340\n",
      "0341\n",
      "0342\n",
      "0343\n",
      "0344\n",
      "0345\n",
      "0346\n",
      "0347\n",
      "0348\n",
      "0349\n",
      "0350\n",
      "0351\n",
      "0352\n",
      "0353\n",
      "0354\n",
      "0355\n",
      "0356\n",
      "0357\n",
      "0358\n",
      "0359\n",
      "0360\n",
      "0361\n",
      "0362\n",
      "0363\n",
      "0364\n",
      "0365\n",
      "0366\n",
      "0367\n",
      "0368\n",
      "0369\n",
      "0370\n",
      "0371\n",
      "0372\n",
      "0373\n",
      "0374\n",
      "0375\n",
      "0376\n",
      "0377\n",
      "0378\n",
      "0379\n",
      "0380\n",
      "0381\n",
      "0382\n",
      "0383\n",
      "0384\n",
      "0385\n",
      "0386\n",
      "0387\n",
      "0388\n",
      "0389\n",
      "0390\n",
      "0391\n",
      "0392\n",
      "0393\n",
      "0394\n",
      "0395\n",
      "0396\n",
      "0397\n",
      "0398\n",
      "0399\n",
      "0400\n",
      "0401\n",
      "0402\n",
      "0403\n",
      "0404\n",
      "0405\n",
      "0406\n",
      "0407\n",
      "0408\n",
      "0409\n",
      "0410\n",
      "0411\n",
      "0412\n",
      "0413\n",
      "0414\n",
      "0415\n",
      "0416\n",
      "0417\n",
      "0418\n",
      "0419\n",
      "0420\n",
      "0421\n",
      "0422\n",
      "0423\n",
      "0424\n",
      "0425\n",
      "0426\n",
      "0427\n",
      "0428\n",
      "0429\n",
      "0430\n",
      "0431\n",
      "0432\n",
      "0433\n",
      "0434\n",
      "0435\n",
      "0436\n",
      "0437\n",
      "0438\n",
      "0439\n",
      "0440\n",
      "0441\n",
      "0442\n",
      "0443\n",
      "0444\n",
      "0445\n",
      "0446\n",
      "0447\n",
      "0448\n",
      "0449\n",
      "0450\n",
      "0451\n",
      "0452\n",
      "0453\n",
      "0454\n",
      "0455\n",
      "0456\n",
      "0457\n",
      "0458\n",
      "0459\n",
      "0460\n",
      "0461\n",
      "0462\n",
      "0463\n",
      "0464\n",
      "0465\n",
      "0466\n",
      "0467\n",
      "0468\n",
      "0469\n",
      "0470\n",
      "0471\n",
      "0472\n",
      "0473\n",
      "0474\n",
      "0475\n",
      "0476\n",
      "0477\n",
      "0478\n",
      "0479\n",
      "0480\n",
      "0481\n",
      "0482\n",
      "0483\n",
      "0484\n",
      "0485\n",
      "0486\n",
      "0487\n",
      "0488\n",
      "0489\n",
      "0490\n",
      "0491\n",
      "0492\n",
      "0493\n",
      "0494\n",
      "0495\n",
      "0496\n",
      "0497\n",
      "0498\n",
      "0499\n",
      "0500\n",
      "0501\n",
      "0502\n",
      "0503\n",
      "0504\n",
      "0505\n",
      "0506\n",
      "0507\n",
      "0508\n",
      "0509\n",
      "0510\n",
      "0511\n",
      "0512\n",
      "0513\n",
      "0514\n",
      "0515\n",
      "0516\n",
      "0517\n",
      "0518\n",
      "0519\n",
      "0520\n",
      "0521\n",
      "0522\n",
      "0523\n",
      "0524\n",
      "0525\n",
      "0526\n",
      "0527\n",
      "0528\n",
      "0529\n",
      "0530\n",
      "0531\n",
      "0532\n",
      "0533\n",
      "0534\n",
      "0535\n",
      "0536\n",
      "0537\n",
      "0538\n",
      "0539\n",
      "0540\n",
      "0541\n",
      "0542\n",
      "0543\n",
      "0544\n",
      "0545\n",
      "0546\n",
      "0547\n",
      "0548\n",
      "0549\n",
      "PIN kodas yra: 0549\n"
     ]
    }
   ],
   "source": [
    "counter = (f\"{num:04}\" for num in range(10000))\n",
    "pin_list = list(counter)\n",
    "for pin in pin_list:\n",
    "    print(pin)\n",
    "    if pin == \"0549\":\n",
    "        print(f\"PIN kodas yra: {pin}\")\n",
    "        break"
   ]
  },
  {
   "attachments": {},
   "cell_type": "markdown",
   "metadata": {},
   "source": [
    "Fibonacci"
   ]
  },
  {
   "cell_type": "code",
   "execution_count": 2,
   "metadata": {},
   "outputs": [
    {
     "name": "stdout",
     "output_type": "stream",
     "text": [
      "34\n"
     ]
    }
   ],
   "source": [
    "def fibonacci(n):\n",
    "    if n <=1:\n",
    "        return n\n",
    "    return fibonacci(n-1) + fibonacci(n-2) \n",
    "\n",
    "if __name__ == \"__main__\":\n",
    "    n = 9\n",
    "    print(fibonacci(n))  "
   ]
  },
  {
   "cell_type": "code",
   "execution_count": 5,
   "metadata": {},
   "outputs": [
    {
     "name": "stdout",
     "output_type": "stream",
     "text": [
      "0 is 1th | 1 is 2th | 1 is 3th | 2 is 4th | 3 is 5th | 5 is 6th | 8 is 7th | 13 is 8th | \n",
      "21 is 9th | 55 is 11th | 144 is 13th | 377 is 15th | 987 is 17th | 2584 is 19th | 6765 is 21th | 17711 is 23th | 46368 is 25th | 121393 is 27th | 317811 is 29th | "
     ]
    }
   ],
   "source": [
    "def nth_fibonnaci(n):\n",
    "\tif n > 0:\n",
    "\t\tn1, n2 = 1, 1\n",
    "\t\tif n > 3:\n",
    "\t\t\tfor _ in range((n//3)):\n",
    "\t\t\t\tn1, n2 = n2, (n2 << 2)+n1 # << 2 is multiply by 4\n",
    "\t\tif n % 3 == 0:\n",
    "\t\t\treturn n1\n",
    "\t\telif n % 3 == 1:\n",
    "\t\t\treturn (n2-n1) >> 1 # >> 1 is divide by 2 'F1'\n",
    "\t\telif n % 3 == 2:\n",
    "\t\t\treturn (n2+n1) >> 1 # >> 1 is divide by 2 'F2'\n",
    "\telse:\n",
    "\t\treturn -1\n",
    "\n",
    "\n",
    "\n",
    "\n",
    "for i in range( 1, 9):\n",
    "\tprint(f\"{nth_fibonnaci(i)} is {i}\", end=\"th | \")\n",
    "print(\"\")\n",
    "for i in range(9, 30, 2):\n",
    "\tprint(f\"{nth_fibonnaci(i)} is {i}\", end=\"th | \")\n"
   ]
  },
  {
   "cell_type": "code",
   "execution_count": 9,
   "metadata": {},
   "outputs": [
    {
     "name": "stdout",
     "output_type": "stream",
     "text": [
      "<generator object read_in_lines at 0x000002145D1BC2E0>\n"
     ]
    },
    {
     "ename": "FileNotFoundError",
     "evalue": "[Errno 2] No such file or directory: 'labas vakaras lietuva'",
     "output_type": "error",
     "traceback": [
      "\u001b[1;31m---------------------------------------------------------------------------\u001b[0m",
      "\u001b[1;31mFileNotFoundError\u001b[0m                         Traceback (most recent call last)",
      "Cell \u001b[1;32mIn[9], line 9\u001b[0m\n\u001b[0;32m      7\u001b[0m generator \u001b[39m=\u001b[39m read_in_lines(\u001b[39m'\u001b[39m\u001b[39mlabas vakaras lietuva\u001b[39m\u001b[39m'\u001b[39m)\n\u001b[0;32m      8\u001b[0m \u001b[39mprint\u001b[39m(generator)\n\u001b[1;32m----> 9\u001b[0m \u001b[39mfor\u001b[39;00m x \u001b[39min\u001b[39;00m generator:\n\u001b[0;32m     10\u001b[0m     \u001b[39mprint\u001b[39m(x)\n",
      "Cell \u001b[1;32mIn[9], line 2\u001b[0m, in \u001b[0;36mread_in_lines\u001b[1;34m(filename)\u001b[0m\n\u001b[0;32m      1\u001b[0m \u001b[39mdef\u001b[39;00m \u001b[39mread_in_lines\u001b[39m(filename):\n\u001b[1;32m----> 2\u001b[0m     \u001b[39mwith\u001b[39;00m \u001b[39mopen\u001b[39;49m(filename, \u001b[39m'\u001b[39;49m\u001b[39mr\u001b[39;49m\u001b[39m'\u001b[39;49m, encoding\u001b[39m=\u001b[39;49m\u001b[39m\"\u001b[39;49m\u001b[39mutf-8\u001b[39;49m\u001b[39m\"\u001b[39;49m) \u001b[39mas\u001b[39;00m file:\n\u001b[0;32m      3\u001b[0m         \u001b[39mfor\u001b[39;00m line \u001b[39min\u001b[39;00m file:\n\u001b[0;32m      4\u001b[0m             \u001b[39myield\u001b[39;00m line[:\u001b[39m-\u001b[39m\u001b[39m1\u001b[39m]\n",
      "File \u001b[1;32m~\\AppData\\Roaming\\Python\\Python310\\site-packages\\IPython\\core\\interactiveshell.py:282\u001b[0m, in \u001b[0;36m_modified_open\u001b[1;34m(file, *args, **kwargs)\u001b[0m\n\u001b[0;32m    275\u001b[0m \u001b[39mif\u001b[39;00m file \u001b[39min\u001b[39;00m {\u001b[39m0\u001b[39m, \u001b[39m1\u001b[39m, \u001b[39m2\u001b[39m}:\n\u001b[0;32m    276\u001b[0m     \u001b[39mraise\u001b[39;00m \u001b[39mValueError\u001b[39;00m(\n\u001b[0;32m    277\u001b[0m         \u001b[39mf\u001b[39m\u001b[39m\"\u001b[39m\u001b[39mIPython won\u001b[39m\u001b[39m'\u001b[39m\u001b[39mt let you open fd=\u001b[39m\u001b[39m{\u001b[39;00mfile\u001b[39m}\u001b[39;00m\u001b[39m by default \u001b[39m\u001b[39m\"\u001b[39m\n\u001b[0;32m    278\u001b[0m         \u001b[39m\"\u001b[39m\u001b[39mas it is likely to crash IPython. If you know what you are doing, \u001b[39m\u001b[39m\"\u001b[39m\n\u001b[0;32m    279\u001b[0m         \u001b[39m\"\u001b[39m\u001b[39myou can use builtins\u001b[39m\u001b[39m'\u001b[39m\u001b[39m open.\u001b[39m\u001b[39m\"\u001b[39m\n\u001b[0;32m    280\u001b[0m     )\n\u001b[1;32m--> 282\u001b[0m \u001b[39mreturn\u001b[39;00m io_open(file, \u001b[39m*\u001b[39margs, \u001b[39m*\u001b[39m\u001b[39m*\u001b[39mkwargs)\n",
      "\u001b[1;31mFileNotFoundError\u001b[0m: [Errno 2] No such file or directory: 'labas vakaras lietuva'"
     ]
    }
   ],
   "source": [
    "def read_in_lines(filename):\n",
    "    with open(filename, 'r', encoding=\"utf-8\") as file:\n",
    "        for line in file:\n",
    "            yield line[:-1]\n",
    "\n",
    "\n",
    "generator = read_in_lines('labas vakaras lietuva')\n",
    "print(generator)\n",
    "for x in generator:\n",
    "    print(x)\n"
   ]
  }
 ],
 "metadata": {
  "kernelspec": {
   "display_name": "Python 3",
   "language": "python",
   "name": "python3"
  },
  "language_info": {
   "codemirror_mode": {
    "name": "ipython",
    "version": 3
   },
   "file_extension": ".py",
   "mimetype": "text/x-python",
   "name": "python",
   "nbconvert_exporter": "python",
   "pygments_lexer": "ipython3",
   "version": "3.10.9 (tags/v3.10.9:1dd9be6, Dec  6 2022, 20:01:21) [MSC v.1934 64 bit (AMD64)]"
  },
  "orig_nbformat": 4,
  "vscode": {
   "interpreter": {
    "hash": "3fd1bf1352bb499601acfc21ca3e7f3a420f2160318d880c7c7e7f41d4508a0b"
   }
  }
 },
 "nbformat": 4,
 "nbformat_minor": 2
}
