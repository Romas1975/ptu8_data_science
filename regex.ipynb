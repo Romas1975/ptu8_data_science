{
 "cells": [
  {
   "cell_type": "code",
   "execution_count": 1,
   "metadata": {},
   "outputs": [],
   "source": [
    "import re"
   ]
  },
  {
   "attachments": {},
   "cell_type": "markdown",
   "metadata": {},
   "source": [
    "# Regex Pythone"
   ]
  },
  {
   "cell_type": "code",
   "execution_count": 2,
   "metadata": {},
   "outputs": [],
   "source": [
    "telefono_nr_filtras = re.compile(r'\\+370\\s\\d{3}\\s\\d{5}')"
   ]
  },
  {
   "cell_type": "code",
   "execution_count": 3,
   "metadata": {},
   "outputs": [],
   "source": [
    "tekstas = '''Pirmas telefono numeris yra +370 123 12321, antras +370 321 10101.'''"
   ]
  },
  {
   "cell_type": "code",
   "execution_count": 4,
   "metadata": {},
   "outputs": [
    {
     "data": {
      "text/plain": [
       "<re.Match object; span=(28, 42), match='+370 123 12321'>"
      ]
     },
     "execution_count": 4,
     "metadata": {},
     "output_type": "execute_result"
    }
   ],
   "source": [
    "rastas_vienas = telefono_nr_filtras.search(tekstas)\n",
    "rastas_vienas"
   ]
  },
  {
   "cell_type": "code",
   "execution_count": 8,
   "metadata": {},
   "outputs": [
    {
     "data": {
      "text/plain": [
       "'+370 123 12321'"
      ]
     },
     "execution_count": 8,
     "metadata": {},
     "output_type": "execute_result"
    }
   ],
   "source": [
    "rastas_vienas.group()"
   ]
  },
  {
   "cell_type": "code",
   "execution_count": 9,
   "metadata": {},
   "outputs": [
    {
     "data": {
      "text/plain": [
       "['+370 123 12321', '+370 321 10101']"
      ]
     },
     "execution_count": 9,
     "metadata": {},
     "output_type": "execute_result"
    }
   ],
   "source": [
    "rasti_visi = telefono_nr_filtras.findall(tekstas)\n",
    "rasti_visi"
   ]
  },
  {
   "cell_type": "code",
   "execution_count": 13,
   "metadata": {},
   "outputs": [],
   "source": [
    "def validate_email(input):\n",
    "    email_regex = re.compile(r'^[a-zA-Z0-9._%-]+@[a-zA-Z0-9.-]+\\.[a-zA-Z]{2,6}$')\n",
    "    result = email_regex.search(input)\n",
    "    print(result)\n",
    "    if result:\n",
    "        return True\n",
    "    return False"
   ]
  },
  {
   "cell_type": "code",
   "execution_count": 11,
   "metadata": {},
   "outputs": [
    {
     "data": {
      "text/plain": [
       "True"
      ]
     },
     "execution_count": 11,
     "metadata": {},
     "output_type": "execute_result"
    }
   ],
   "source": [
    "validate_email('kestas@midonow.fi')"
   ]
  },
  {
   "cell_type": "code",
   "execution_count": 14,
   "metadata": {},
   "outputs": [
    {
     "name": "stdout",
     "output_type": "stream",
     "text": [
      "<re.Match object; span=(0, 39), match='studentai@codeacademylt.onmicrosoft.com'>\n"
     ]
    },
    {
     "data": {
      "text/plain": [
       "True"
      ]
     },
     "execution_count": 14,
     "metadata": {},
     "output_type": "execute_result"
    }
   ],
   "source": [
    "validate_email('studentai@codeacademylt.onmicrosoft.com')"
   ]
  },
  {
   "attachments": {},
   "cell_type": "markdown",
   "metadata": {},
   "source": [
    "# Grupavimas"
   ]
  },
  {
   "cell_type": "code",
   "execution_count": 16,
   "metadata": {},
   "outputs": [
    {
     "data": {
      "text/plain": [
       "['Mr.', 'Kestutis', 'Januskevicius']"
      ]
     },
     "execution_count": 16,
     "metadata": {},
     "output_type": "execute_result"
    }
   ],
   "source": [
    "name = 'Mr. Kestutis Januskevicius'\n",
    "vardai = name.split()\n",
    "vardai"
   ]
  },
  {
   "cell_type": "code",
   "execution_count": 30,
   "metadata": {},
   "outputs": [],
   "source": [
    "def split_names(name):\n",
    "    name_filter = re.compile(r'^([A-Z]\\w*\\.)\\s([A-Z]\\w+)\\s([A-Z]\\w+)$')\n",
    "    filter_result = name_filter.search(name)\n",
    "    if filter_result:\n",
    "        print(f\"\"\"\n",
    "Visa eilutė:  {filter_result.group(0)}\n",
    "Kreipinys:    {filter_result.group(1)}\n",
    "Vardas:       {filter_result.group(2)}\n",
    "Pavardė:      {filter_result.group(3)}\n",
    "-------------------------------------------------------\n",
    "Str rezult.:  {filter_result.group()}\n",
    "Visos grupės: {filter_result.groups()}\n",
    "\"\"\")\n",
    "    else:\n",
    "        print(\"OOOOOOPS: Blgoas vardas\")"
   ]
  },
  {
   "cell_type": "code",
   "execution_count": 31,
   "metadata": {},
   "outputs": [
    {
     "name": "stdout",
     "output_type": "stream",
     "text": [
      "\n",
      "Visa eilutė:  Mr. Kestutis Januskevicius\n",
      "Kreipinys:    Mr.\n",
      "Vardas:       Kestutis\n",
      "Pavardė:      Januskevicius\n",
      "-------------------------------------------------------\n",
      "Str rezult.:  Mr. Kestutis Januskevicius\n",
      "Visos grupės: ('Mr.', 'Kestutis', 'Januskevicius')\n",
      "\n"
     ]
    }
   ],
   "source": [
    "split_names(name)"
   ]
  },
  {
   "cell_type": "code",
   "execution_count": 42,
   "metadata": {},
   "outputs": [],
   "source": [
    "def get_name_components(name):\n",
    "    name_filter = re.compile(r'^(?P<title>[A-Z]\\w*\\.)\\s(?P<first_name>[A-Z]\\w+)\\s(?P<last_name>[A-Z]\\w+)$')\n",
    "    filter_result = name_filter.search(name)\n",
    "    if filter_result:\n",
    "        return filter_result.group(\"title\"), filter_result.group(\"first_name\"), filter_result.group(\"last_name\")"
   ]
  },
  {
   "cell_type": "code",
   "execution_count": 43,
   "metadata": {},
   "outputs": [
    {
     "data": {
      "text/plain": [
       "('Mrs.', 'Airida', 'Smalsuolė')"
      ]
     },
     "execution_count": 43,
     "metadata": {},
     "output_type": "execute_result"
    }
   ],
   "source": [
    "get_name_components(\"Mrs. Airida Smalsuolė\")"
   ]
  },
  {
   "attachments": {},
   "cell_type": "markdown",
   "metadata": {},
   "source": [
    "# .sub()"
   ]
  },
  {
   "cell_type": "code",
   "execution_count": 59,
   "metadata": {},
   "outputs": [],
   "source": [
    "def mask_last_name(name):\n",
    "    name_filter = re.compile(r'^(?P<title>[A-Z]\\w*\\.)\\s(?P<first_name>[A-Z]\\w+)\\s(?P<last_name>[A-Z]\\w+)$')\n",
    "    filter_result = name_filter.search(name)\n",
    "    if filter_result:\n",
    "        return name_filter.sub(r'title: \\g<title>, name: \\g<first_name>, last_name: ********', name)"
   ]
  },
  {
   "cell_type": "code",
   "execution_count": 60,
   "metadata": {},
   "outputs": [
    {
     "data": {
      "text/plain": [
       "'title: Ms., name: Eglė, last_name: ********'"
      ]
     },
     "execution_count": 60,
     "metadata": {},
     "output_type": "execute_result"
    }
   ],
   "source": [
    "mask_last_name('Ms. Eglė Slapukė')"
   ]
  },
  {
   "cell_type": "code",
   "execution_count": 69,
   "metadata": {},
   "outputs": [
    {
     "name": "stdout",
     "output_type": "stream",
     "text": [
      "Trumpas tekstas apie \t betką IR.. belenkaip, \n",
      "ir apie viską.\n"
     ]
    }
   ],
   "source": [
    "tekstas = \"Trumpas tekstas apie \\t betką IR.. belenkaip, \\r\\nir apie viską.\"\n",
    "print(tekstas)"
   ]
  },
  {
   "attachments": {},
   "cell_type": "markdown",
   "metadata": {},
   "source": [
    "# Flag'ai"
   ]
  },
  {
   "cell_type": "code",
   "execution_count": 70,
   "metadata": {},
   "outputs": [
    {
     "data": {
      "text/plain": [
       "['IR', 'ir']"
      ]
     },
     "execution_count": 70,
     "metadata": {},
     "output_type": "execute_result"
    }
   ],
   "source": [
    "word_filter = re.compile(r'\\bir\\b', re.IGNORECASE)\n",
    "found = word_filter.findall(tekstas)\n",
    "found"
   ]
  },
  {
   "cell_type": "code",
   "execution_count": 81,
   "metadata": {},
   "outputs": [
    {
     "name": "stdout",
     "output_type": "stream",
     "text": [
      "['Trumpas']\n",
      "['Trumpas', 'ir']\n"
     ]
    }
   ],
   "source": [
    "words_in_line_filter = re.compile(r'^\\w+')\n",
    "words_in_lines_filter = re.compile(r'^\\w+', re.MULTILINE)\n",
    "\n",
    "found_1 = words_in_line_filter.findall(tekstas)\n",
    "found_all = words_in_lines_filter.findall(tekstas)\n",
    "\n",
    "print(found_1)\n",
    "print(found_all)"
   ]
  },
  {
   "cell_type": "code",
   "execution_count": 90,
   "metadata": {},
   "outputs": [
    {
     "name": "stdout",
     "output_type": "stream",
     "text": [
      "regex mAster\n"
     ]
    }
   ],
   "source": [
    "name_filter = re.compile(r'''\n",
    "^                           # eilutės pradžia\n",
    "(?P<title>[A-Z]\\w*\\.)       # kreipinio grupė\n",
    "\\s                          # tarpas\n",
    "(?P<first_name>[A-Z]\\w+)    # vardo grupė\n",
    "\\s                          # tarpas\n",
    "(?P<last_name>[A-Z]\\w+)     # pavardės grupė\n",
    "$\n",
    "''', re.VERBOSE | re.IGNORECASE)\n",
    "\n",
    "result = name_filter.search(\"dr. regex mAster\")\n",
    "print(result.group(\"first_name\"), result.group(\"last_name\"))"
   ]
  }
 ],
 "metadata": {
  "kernelspec": {
   "display_name": "venv",
   "language": "python",
   "name": "python3"
  },
  "language_info": {
   "codemirror_mode": {
    "name": "ipython",
    "version": 3
   },
   "file_extension": ".py",
   "mimetype": "text/x-python",
   "name": "python",
   "nbconvert_exporter": "python",
   "pygments_lexer": "ipython3",
   "version": "3.8.10"
  },
  "orig_nbformat": 4,
  "vscode": {
   "interpreter": {
    "hash": "fb638a7611dd751c98c4868f8b07efdb6561848469f9a017ff0265dbc4e7eaf7"
   }
  }
 },
 "nbformat": 4,
 "nbformat_minor": 2
}
